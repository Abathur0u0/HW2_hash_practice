{
  "nbformat": 4,
  "nbformat_minor": 0,
  "metadata": {
    "colab": {
      "provenance": []
    },
    "kernelspec": {
      "name": "python3",
      "display_name": "Python 3"
    },
    "language_info": {
      "name": "python"
    }
  },
  "cells": [
    {
      "cell_type": "code",
      "execution_count": 13,
      "metadata": {
        "colab": {
          "base_uri": "https://localhost:8080/"
        },
        "id": "F6O3RM7KEU-5",
        "outputId": "74833e52-9a86-449d-8d73-acac5bee2284"
      },
      "outputs": [
        {
          "output_type": "stream",
          "name": "stdout",
          "text": [
            "總共有 10 個不重複的英文字\n",
            "每一個英文字出現次數為和:\n",
            "Cheese : 234\n",
            "Pizza : 83\n",
            "Coke : 145\n",
            "Steak : 46\n",
            "Burger : 196\n",
            "Fries : 76\n",
            "Rib : 33\n",
            "Taco : 57\n",
            "Pho : 19\n",
            "Potato : 3\n"
          ]
        }
      ],
      "source": [
        "with open('hw2_data.txt', 'r') as file:\n",
        "    data = file.readlines()\n",
        "\n",
        "# 存放不重複以及出現次數\n",
        "word_counts = {}\n",
        "\n",
        "for line in data:\n",
        "    # 刪除換行符號，不然最後一個字沒有換行符號，會被當成新的字\n",
        "    word = line.strip()\n",
        "    # 如果以及紀錄過，就數量+1，否則數量設為1\n",
        "    if word in word_counts:\n",
        "        word_counts[word] += 1\n",
        "    else:\n",
        "        word_counts[word] = 1\n",
        "\n",
        "print('總共有', len(word_counts), '個不重複的英文字')\n",
        "print('每一個英文字出現次數為和:')\n",
        "for word, count in word_counts.items():\n",
        "    print(word, ':', count)"
      ]
    }
  ]
}